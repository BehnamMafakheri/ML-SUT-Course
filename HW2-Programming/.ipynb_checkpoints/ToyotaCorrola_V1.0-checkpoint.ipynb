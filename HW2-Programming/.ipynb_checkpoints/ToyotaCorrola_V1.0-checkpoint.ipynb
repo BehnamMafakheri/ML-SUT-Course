{
 "cells": [
  {
   "cell_type": "code",
   "execution_count": 2,
   "metadata": {},
   "outputs": [],
   "source": [
    "import pandas as pd\n",
    "import numpy as np"
   ]
  },
  {
   "cell_type": "code",
   "execution_count": 9,
   "metadata": {},
   "outputs": [],
   "source": [
    "df = pd.read_excel('ToyotaCorolla_HW2.xls', sheet_name=1)\n",
    "# df.head()\n",
    "df = pd.concat([df, pd.get_dummies(df['Fuel_Type'], prefix='Fuel_type'), pd.get_dummies(df['Color'], prefix='Color')],axis=1)\n",
    "df.drop(['Fuel_Type'], axis=1, inplace=True)\n",
    "df.drop('Color',axis=1, inplace=True)\n",
    "df.drop('Model',axis=1, inplace=True)\n",
    "df.drop('Id',axis=1, inplace=True)\n",
    "# df.info()"
   ]
  },
  {
   "cell_type": "code",
   "execution_count": 12,
   "metadata": {},
   "outputs": [
    {
     "data": {
      "text/plain": [
       "numpy.ndarray"
      ]
     },
     "execution_count": 12,
     "metadata": {},
     "output_type": "execute_result"
    }
   ],
   "source": [
    "type(df.values)"
   ]
  },
  {
   "cell_type": "code",
   "execution_count": 13,
   "metadata": {},
   "outputs": [],
   "source": [
    "df.insert(1,'Ones',1)"
   ]
  },
  {
   "cell_type": "code",
   "execution_count": 15,
   "metadata": {
    "scrolled": true
   },
   "outputs": [],
   "source": [
    "shuffled_data = df.sample(frac=1)"
   ]
  },
  {
   "cell_type": "code",
   "execution_count": null,
   "metadata": {},
   "outputs": [],
   "source": []
  },
  {
   "cell_type": "code",
   "execution_count": 17,
   "metadata": {},
   "outputs": [],
   "source": [
    "no_test_rows = int(0.15 * shuffled_data.shape[0])\n",
    "test_set = shuffled_data[0:no_test_rows]\n",
    "test_labels = np.array(test_set['Price'])\n",
    "test_data = np.array(test_set.loc[:, test_set.columns!='Price'])\n"
   ]
  },
  {
   "cell_type": "code",
   "execution_count": 186,
   "metadata": {},
   "outputs": [
    {
     "name": "stderr",
     "output_type": "stream",
     "text": [
      "C:\\ProgramData\\Anaconda3\\lib\\site-packages\\pandas\\core\\indexing.py:965: SettingWithCopyWarning: \n",
      "A value is trying to be set on a copy of a slice from a DataFrame.\n",
      "Try using .loc[row_indexer,col_indexer] = value instead\n",
      "\n",
      "See the caveats in the documentation: https://pandas.pydata.org/pandas-docs/stable/user_guide/indexing.html#returning-a-view-versus-a-copy\n",
      "  self.obj[item] = s\n",
      "C:\\ProgramData\\Anaconda3\\lib\\site-packages\\ipykernel_launcher.py:20: SettingWithCopyWarning: \n",
      "A value is trying to be set on a copy of a slice from a DataFrame.\n",
      "Try using .loc[row_indexer,col_indexer] = value instead\n",
      "\n",
      "See the caveats in the documentation: https://pandas.pydata.org/pandas-docs/stable/user_guide/indexing.html#returning-a-view-versus-a-copy\n",
      "C:\\ProgramData\\Anaconda3\\lib\\site-packages\\pandas\\core\\indexing.py:965: SettingWithCopyWarning: \n",
      "A value is trying to be set on a copy of a slice from a DataFrame.\n",
      "Try using .loc[row_indexer,col_indexer] = value instead\n",
      "\n",
      "See the caveats in the documentation: https://pandas.pydata.org/pandas-docs/stable/user_guide/indexing.html#returning-a-view-versus-a-copy\n",
      "  self.obj[item] = s\n",
      "C:\\ProgramData\\Anaconda3\\lib\\site-packages\\pandas\\core\\indexing.py:965: SettingWithCopyWarning: \n",
      "A value is trying to be set on a copy of a slice from a DataFrame.\n",
      "Try using .loc[row_indexer,col_indexer] = value instead\n",
      "\n",
      "See the caveats in the documentation: https://pandas.pydata.org/pandas-docs/stable/user_guide/indexing.html#returning-a-view-versus-a-copy\n",
      "  self.obj[item] = s\n",
      "C:\\ProgramData\\Anaconda3\\lib\\site-packages\\pandas\\core\\indexing.py:965: SettingWithCopyWarning: \n",
      "A value is trying to be set on a copy of a slice from a DataFrame.\n",
      "Try using .loc[row_indexer,col_indexer] = value instead\n",
      "\n",
      "See the caveats in the documentation: https://pandas.pydata.org/pandas-docs/stable/user_guide/indexing.html#returning-a-view-versus-a-copy\n",
      "  self.obj[item] = s\n",
      "C:\\ProgramData\\Anaconda3\\lib\\site-packages\\pandas\\core\\indexing.py:965: SettingWithCopyWarning: \n",
      "A value is trying to be set on a copy of a slice from a DataFrame.\n",
      "Try using .loc[row_indexer,col_indexer] = value instead\n",
      "\n",
      "See the caveats in the documentation: https://pandas.pydata.org/pandas-docs/stable/user_guide/indexing.html#returning-a-view-versus-a-copy\n",
      "  self.obj[item] = s\n",
      "C:\\ProgramData\\Anaconda3\\lib\\site-packages\\pandas\\core\\indexing.py:965: SettingWithCopyWarning: \n",
      "A value is trying to be set on a copy of a slice from a DataFrame.\n",
      "Try using .loc[row_indexer,col_indexer] = value instead\n",
      "\n",
      "See the caveats in the documentation: https://pandas.pydata.org/pandas-docs/stable/user_guide/indexing.html#returning-a-view-versus-a-copy\n",
      "  self.obj[item] = s\n",
      "C:\\ProgramData\\Anaconda3\\lib\\site-packages\\pandas\\core\\indexing.py:965: SettingWithCopyWarning: \n",
      "A value is trying to be set on a copy of a slice from a DataFrame.\n",
      "Try using .loc[row_indexer,col_indexer] = value instead\n",
      "\n",
      "See the caveats in the documentation: https://pandas.pydata.org/pandas-docs/stable/user_guide/indexing.html#returning-a-view-versus-a-copy\n",
      "  self.obj[item] = s\n",
      "C:\\ProgramData\\Anaconda3\\lib\\site-packages\\pandas\\core\\indexing.py:965: SettingWithCopyWarning: \n",
      "A value is trying to be set on a copy of a slice from a DataFrame.\n",
      "Try using .loc[row_indexer,col_indexer] = value instead\n",
      "\n",
      "See the caveats in the documentation: https://pandas.pydata.org/pandas-docs/stable/user_guide/indexing.html#returning-a-view-versus-a-copy\n",
      "  self.obj[item] = s\n",
      "C:\\ProgramData\\Anaconda3\\lib\\site-packages\\pandas\\core\\indexing.py:965: SettingWithCopyWarning: \n",
      "A value is trying to be set on a copy of a slice from a DataFrame.\n",
      "Try using .loc[row_indexer,col_indexer] = value instead\n",
      "\n",
      "See the caveats in the documentation: https://pandas.pydata.org/pandas-docs/stable/user_guide/indexing.html#returning-a-view-versus-a-copy\n",
      "  self.obj[item] = s\n",
      "C:\\ProgramData\\Anaconda3\\lib\\site-packages\\pandas\\core\\indexing.py:965: SettingWithCopyWarning: \n",
      "A value is trying to be set on a copy of a slice from a DataFrame.\n",
      "Try using .loc[row_indexer,col_indexer] = value instead\n",
      "\n",
      "See the caveats in the documentation: https://pandas.pydata.org/pandas-docs/stable/user_guide/indexing.html#returning-a-view-versus-a-copy\n",
      "  self.obj[item] = s\n",
      "C:\\ProgramData\\Anaconda3\\lib\\site-packages\\pandas\\core\\indexing.py:965: SettingWithCopyWarning: \n",
      "A value is trying to be set on a copy of a slice from a DataFrame.\n",
      "Try using .loc[row_indexer,col_indexer] = value instead\n",
      "\n",
      "See the caveats in the documentation: https://pandas.pydata.org/pandas-docs/stable/user_guide/indexing.html#returning-a-view-versus-a-copy\n",
      "  self.obj[item] = s\n",
      "C:\\ProgramData\\Anaconda3\\lib\\site-packages\\pandas\\core\\indexing.py:965: SettingWithCopyWarning: \n",
      "A value is trying to be set on a copy of a slice from a DataFrame.\n",
      "Try using .loc[row_indexer,col_indexer] = value instead\n",
      "\n",
      "See the caveats in the documentation: https://pandas.pydata.org/pandas-docs/stable/user_guide/indexing.html#returning-a-view-versus-a-copy\n",
      "  self.obj[item] = s\n",
      "C:\\ProgramData\\Anaconda3\\lib\\site-packages\\pandas\\core\\indexing.py:965: SettingWithCopyWarning: \n",
      "A value is trying to be set on a copy of a slice from a DataFrame.\n",
      "Try using .loc[row_indexer,col_indexer] = value instead\n",
      "\n",
      "See the caveats in the documentation: https://pandas.pydata.org/pandas-docs/stable/user_guide/indexing.html#returning-a-view-versus-a-copy\n",
      "  self.obj[item] = s\n",
      "C:\\ProgramData\\Anaconda3\\lib\\site-packages\\pandas\\core\\indexing.py:965: SettingWithCopyWarning: \n",
      "A value is trying to be set on a copy of a slice from a DataFrame.\n",
      "Try using .loc[row_indexer,col_indexer] = value instead\n",
      "\n",
      "See the caveats in the documentation: https://pandas.pydata.org/pandas-docs/stable/user_guide/indexing.html#returning-a-view-versus-a-copy\n",
      "  self.obj[item] = s\n"
     ]
    },
    {
     "data": {
      "text/html": [
       "<div>\n",
       "<style scoped>\n",
       "    .dataframe tbody tr th:only-of-type {\n",
       "        vertical-align: middle;\n",
       "    }\n",
       "\n",
       "    .dataframe tbody tr th {\n",
       "        vertical-align: top;\n",
       "    }\n",
       "\n",
       "    .dataframe thead th {\n",
       "        text-align: right;\n",
       "    }\n",
       "</style>\n",
       "<table border=\"1\" class=\"dataframe\">\n",
       "  <thead>\n",
       "    <tr style=\"text-align: right;\">\n",
       "      <th></th>\n",
       "      <th>Price</th>\n",
       "      <th>Ones</th>\n",
       "      <th>Age_08_04</th>\n",
       "      <th>Mfg_Month</th>\n",
       "      <th>Mfg_Year</th>\n",
       "      <th>KM</th>\n",
       "      <th>HP</th>\n",
       "      <th>Met_Color</th>\n",
       "      <th>Automatic</th>\n",
       "      <th>CC</th>\n",
       "      <th>...</th>\n",
       "      <th>Color_Beige</th>\n",
       "      <th>Color_Black</th>\n",
       "      <th>Color_Blue</th>\n",
       "      <th>Color_Green</th>\n",
       "      <th>Color_Grey</th>\n",
       "      <th>Color_Red</th>\n",
       "      <th>Color_Silver</th>\n",
       "      <th>Color_Violet</th>\n",
       "      <th>Color_White</th>\n",
       "      <th>Color_Yellow</th>\n",
       "    </tr>\n",
       "  </thead>\n",
       "  <tbody>\n",
       "    <tr>\n",
       "      <th>801</th>\n",
       "      <td>0.211820</td>\n",
       "      <td>1</td>\n",
       "      <td>0.759494</td>\n",
       "      <td>0.636364</td>\n",
       "      <td>0.166667</td>\n",
       "      <td>0.304088</td>\n",
       "      <td>0.333333</td>\n",
       "      <td>1.0</td>\n",
       "      <td>0.0</td>\n",
       "      <td>0.428571</td>\n",
       "      <td>...</td>\n",
       "      <td>0.0</td>\n",
       "      <td>1.0</td>\n",
       "      <td>0.0</td>\n",
       "      <td>0.0</td>\n",
       "      <td>0.0</td>\n",
       "      <td>0.0</td>\n",
       "      <td>0.0</td>\n",
       "      <td>0.0</td>\n",
       "      <td>0.0</td>\n",
       "      <td>0.0</td>\n",
       "    </tr>\n",
       "    <tr>\n",
       "      <th>555</th>\n",
       "      <td>0.258912</td>\n",
       "      <td>1</td>\n",
       "      <td>0.620253</td>\n",
       "      <td>0.545455</td>\n",
       "      <td>0.333333</td>\n",
       "      <td>0.166252</td>\n",
       "      <td>0.227642</td>\n",
       "      <td>1.0</td>\n",
       "      <td>0.0</td>\n",
       "      <td>0.142857</td>\n",
       "      <td>...</td>\n",
       "      <td>0.0</td>\n",
       "      <td>0.0</td>\n",
       "      <td>0.0</td>\n",
       "      <td>0.0</td>\n",
       "      <td>0.0</td>\n",
       "      <td>1.0</td>\n",
       "      <td>0.0</td>\n",
       "      <td>0.0</td>\n",
       "      <td>0.0</td>\n",
       "      <td>0.0</td>\n",
       "    </tr>\n",
       "    <tr>\n",
       "      <th>499</th>\n",
       "      <td>0.210131</td>\n",
       "      <td>1</td>\n",
       "      <td>0.658228</td>\n",
       "      <td>0.272727</td>\n",
       "      <td>0.333333</td>\n",
       "      <td>0.238466</td>\n",
       "      <td>0.227642</td>\n",
       "      <td>1.0</td>\n",
       "      <td>0.0</td>\n",
       "      <td>0.142857</td>\n",
       "      <td>...</td>\n",
       "      <td>0.0</td>\n",
       "      <td>0.0</td>\n",
       "      <td>1.0</td>\n",
       "      <td>0.0</td>\n",
       "      <td>0.0</td>\n",
       "      <td>0.0</td>\n",
       "      <td>0.0</td>\n",
       "      <td>0.0</td>\n",
       "      <td>0.0</td>\n",
       "      <td>0.0</td>\n",
       "    </tr>\n",
       "    <tr>\n",
       "      <th>276</th>\n",
       "      <td>0.341463</td>\n",
       "      <td>1</td>\n",
       "      <td>0.481013</td>\n",
       "      <td>0.454545</td>\n",
       "      <td>0.500000</td>\n",
       "      <td>0.192676</td>\n",
       "      <td>0.227642</td>\n",
       "      <td>1.0</td>\n",
       "      <td>0.0</td>\n",
       "      <td>0.142857</td>\n",
       "      <td>...</td>\n",
       "      <td>0.0</td>\n",
       "      <td>0.0</td>\n",
       "      <td>0.0</td>\n",
       "      <td>0.0</td>\n",
       "      <td>0.0</td>\n",
       "      <td>1.0</td>\n",
       "      <td>0.0</td>\n",
       "      <td>0.0</td>\n",
       "      <td>0.0</td>\n",
       "      <td>0.0</td>\n",
       "    </tr>\n",
       "    <tr>\n",
       "      <th>539</th>\n",
       "      <td>0.277674</td>\n",
       "      <td>1</td>\n",
       "      <td>0.645570</td>\n",
       "      <td>0.363636</td>\n",
       "      <td>0.333333</td>\n",
       "      <td>0.191145</td>\n",
       "      <td>0.333333</td>\n",
       "      <td>1.0</td>\n",
       "      <td>0.0</td>\n",
       "      <td>0.428571</td>\n",
       "      <td>...</td>\n",
       "      <td>0.0</td>\n",
       "      <td>0.0</td>\n",
       "      <td>0.0</td>\n",
       "      <td>0.0</td>\n",
       "      <td>0.0</td>\n",
       "      <td>1.0</td>\n",
       "      <td>0.0</td>\n",
       "      <td>0.0</td>\n",
       "      <td>0.0</td>\n",
       "      <td>0.0</td>\n",
       "    </tr>\n",
       "  </tbody>\n",
       "</table>\n",
       "<p>5 rows × 49 columns</p>\n",
       "</div>"
      ],
      "text/plain": [
       "        Price  Ones  Age_08_04  Mfg_Month  Mfg_Year        KM        HP  \\\n",
       "801  0.211820     1   0.759494   0.636364  0.166667  0.304088  0.333333   \n",
       "555  0.258912     1   0.620253   0.545455  0.333333  0.166252  0.227642   \n",
       "499  0.210131     1   0.658228   0.272727  0.333333  0.238466  0.227642   \n",
       "276  0.341463     1   0.481013   0.454545  0.500000  0.192676  0.227642   \n",
       "539  0.277674     1   0.645570   0.363636  0.333333  0.191145  0.333333   \n",
       "\n",
       "     Met_Color  Automatic        CC  ...  Color_Beige  Color_Black  \\\n",
       "801        1.0        0.0  0.428571  ...          0.0          1.0   \n",
       "555        1.0        0.0  0.142857  ...          0.0          0.0   \n",
       "499        1.0        0.0  0.142857  ...          0.0          0.0   \n",
       "276        1.0        0.0  0.142857  ...          0.0          0.0   \n",
       "539        1.0        0.0  0.428571  ...          0.0          0.0   \n",
       "\n",
       "     Color_Blue  Color_Green  Color_Grey  Color_Red  Color_Silver  \\\n",
       "801         0.0          0.0         0.0        0.0           0.0   \n",
       "555         0.0          0.0         0.0        1.0           0.0   \n",
       "499         1.0          0.0         0.0        0.0           0.0   \n",
       "276         0.0          0.0         0.0        1.0           0.0   \n",
       "539         0.0          0.0         0.0        1.0           0.0   \n",
       "\n",
       "     Color_Violet  Color_White  Color_Yellow  \n",
       "801           0.0          0.0           0.0  \n",
       "555           0.0          0.0           0.0  \n",
       "499           0.0          0.0           0.0  \n",
       "276           0.0          0.0           0.0  \n",
       "539           0.0          0.0           0.0  \n",
       "\n",
       "[5 rows x 49 columns]"
      ]
     },
     "execution_count": 186,
     "metadata": {},
     "output_type": "execute_result"
    }
   ],
   "source": [
    "# define a function of normalisation, which also drops the columns with the same min and max\n",
    "\n",
    "train_val_dataset = shuffled_data[test_set.shape[0]:]\n",
    "\n",
    "# def minmax_columns(x):\n",
    "#     x = pd.DataFrame()\n",
    "#     for i in x:\n",
    "#         print(x[i].min(), x[i].max())\n",
    "min_max = [0]*train_val_dataset.shape[1]\n",
    "i = 0\n",
    "for column in train_val_dataset:\n",
    "    if train_val_dataset[column].min() == train_val_dataset[column].max():\n",
    "        min_max[i] = (0, train_val_dataset[column].max())\n",
    "    else:\n",
    "        min_max[i] = (train_val_dataset[column].min(), train_val_dataset[column].max())\n",
    "    i += 1\n",
    "\n",
    "for column in train_val_dataset:\n",
    "    if train_val_dataset[column].min() == train_val_dataset[column].max():\n",
    "        train_val_dataset[column] = 1\n",
    "    else:\n",
    "        train_val_dataset.loc[:, column] = (train_val_dataset[column]-train_val_dataset[column].min())\\\n",
    "            /(train_val_dataset[column].max()-train_val_dataset[column].min())\n",
    "train_val_dataset.head()\n",
    "\n"
   ]
  },
  {
   "cell_type": "code",
   "execution_count": 187,
   "metadata": {},
   "outputs": [],
   "source": [
    "# min_max"
   ]
  },
  {
   "cell_type": "code",
   "execution_count": 188,
   "metadata": {},
   "outputs": [],
   "source": [
    "train_val_data = train_val_dataset.to_numpy()"
   ]
  },
  {
   "cell_type": "code",
   "execution_count": 190,
   "metadata": {},
   "outputs": [
    {
     "name": "stdout",
     "output_type": "stream",
     "text": [
      "(1005, 48)\n"
     ]
    }
   ],
   "source": [
    "#Dividing the samples into three sets for training, validation and test\n",
    "\n",
    "no_training_samples = int(0.7* shuffled_data.shape[0])\n",
    "no_validation_samples = int(0.15*shuffled_data.shape[0])\n",
    "# no_validation_samples = int(0.15*shuffled_data.shape[0])\n",
    "\n",
    "\n",
    "training_set = train_val_data[no_test_rows:no_training_samples + no_test_rows]\n",
    "validation_set = train_val_data[no_training_samples:]\n",
    "\n",
    "# print(shuffled_data.shape, training_set.shape, validation_set.shape, test_set.shape)\n",
    "\n",
    "\n",
    "training_labels = training_set[:,0]\n",
    "training_labels = training_labels.reshape(training_set.shape[0],1)\n",
    "training_data = training_set[:, 1:]\n",
    "# training_data.reshape(training_data.shape[0], training_data.shape[1],1)\n",
    "\n",
    "validation_labels = validation_set[:,0]\n",
    "validation_labels = validation_labels.reshape(validation_set.shape[0],1)\n",
    "validation_data = (validation_set[:, 1:])\n",
    "\n",
    "\n",
    "\n",
    "print(training_data.shape)\n",
    "# print(training_data.shape)\n",
    "# print(training_labels.shape)"
   ]
  },
  {
   "cell_type": "code",
   "execution_count": 163,
   "metadata": {},
   "outputs": [],
   "source": [
    "# print(no_training_samples, no_validation_samples)\n",
    "# print(training_set)"
   ]
  },
  {
   "cell_type": "code",
   "execution_count": 191,
   "metadata": {},
   "outputs": [],
   "source": [
    "#define a function for gradient\n",
    "\n",
    "def loss(y,w,X):\n",
    "    return np.sum((y-np.dot(X,w))**2)/y.shape[0]\n",
    "\n",
    "def grad_sgd(y,w,x):\n",
    "    return ((y-np.dot(w.T,x))*x).reshape(x.shape[0], 1)\n",
    "\n",
    "def training(EPOCHS, lr, training_data, training_labels, validation_data, validation_labels):\n",
    "    w = np.ones((training_data.shape[1],1))\n",
    "    training_loss = []\n",
    "    validation_loss = []\n",
    "    for epoch in range(EPOCHS):\n",
    "        for i in range(training_labels.shape[0]):\n",
    "            w = w + lr * grad_sgd(training_labels[i], w, training_data[i])\n",
    "        loss_tr = loss(training_labels, w, training_data)\n",
    "        loss_val = loss(validation_labels, w, validation_data)\n",
    "\n",
    "        training_loss.append(loss_tr)  \n",
    "        validation_loss.append(loss_val) \n",
    "        \n",
    "#         print('EPOCH {}: training_loss: {}, validation_loss: {}'.format(epoch, np.squeeze(loss_tr), np.squeeze(loss_val)))\n",
    "        \n",
    "    return w, training_loss, validation_loss"
   ]
  },
  {
   "cell_type": "code",
   "execution_count": 192,
   "metadata": {},
   "outputs": [
    {
     "data": {
      "text/plain": [
       "(1005, 1)"
      ]
     },
     "execution_count": 192,
     "metadata": {},
     "output_type": "execute_result"
    }
   ],
   "source": [
    "w = np.ones((training_data.shape[1],1))\n",
    "# training_labels.shape.shape\n",
    "y1 = training_labels\n",
    "X1 = training_data\n",
    "(y1-np.dot(X1,w)).shape"
   ]
  },
  {
   "cell_type": "code",
   "execution_count": 193,
   "metadata": {},
   "outputs": [],
   "source": [
    "#for learning rate specify different rates\n",
    "learning_rate = 0.1\n",
    "EPOCHS=100\n",
    "# print(w)\n",
    "w, training_loss, validation_loss = training(EPOCHS, learning_rate, training_data, training_labels, validation_data, validation_labels)\n"
   ]
  },
  {
   "cell_type": "code",
   "execution_count": 180,
   "metadata": {},
   "outputs": [
    {
     "data": {
      "text/plain": [
       "[0.009521815182798913,\n",
       " 0.005191741718033949,\n",
       " 0.005581902407541737,\n",
       " 0.006416691723983244,\n",
       " 0.007130396844288017,\n",
       " 0.007655444335024279,\n",
       " 0.008026693929234401,\n",
       " 0.00828941764882673,\n",
       " 0.008478725544930255,\n",
       " 0.008618483814847106,\n",
       " 0.008724231123442582,\n",
       " 0.00880601147809995,\n",
       " 0.00887039302597309,\n",
       " 0.008921770529311937,\n",
       " 0.008963172809243568,\n",
       " 0.008996756055510102,\n",
       " 0.009024105044610856,\n",
       " 0.009046418773518335,\n",
       " 0.009064626868057328,\n",
       " 0.009079464394944241,\n",
       " 0.009091521425051298,\n",
       " 0.009101277010706309,\n",
       " 0.009109123312905306,\n",
       " 0.009115383316157875,\n",
       " 0.00912032422358471,\n",
       " 0.009124167834476515,\n",
       " 0.009127098738093883,\n",
       " 0.009129270875994145,\n",
       " 0.009130812852549342,\n",
       " 0.009131832264549344,\n",
       " 0.009132419249920575,\n",
       " 0.00913264940765418,\n",
       " 0.009132586207304864,\n",
       " 0.009132282981812415,\n",
       " 0.009131784578836946,\n",
       " 0.009131128731454921,\n",
       " 0.009130347197742708,\n",
       " 0.009129466709723252,\n",
       " 0.009128509764847312,\n",
       " 0.009127495287236543,\n",
       " 0.009126439181071892,\n",
       " 0.009125354794546788,\n",
       " 0.009124253309555611,\n",
       " 0.00912314406962193,\n",
       " 0.009122034856386078,\n",
       " 0.009120932123174738,\n",
       " 0.009119841192697454,\n",
       " 0.009118766424706097,\n",
       " 0.009117711358450624,\n",
       " 0.009116678833946111,\n",
       " 0.009115671095388954,\n",
       " 0.009114689879500489,\n",
       " 0.009113736491119495,\n",
       " 0.00911281186797917,\n",
       " 0.009111916636294326,\n",
       " 0.00911105115852163,\n",
       " 0.00911021557443816,\n",
       " 0.009109409836505294,\n",
       " 0.009108633740334894,\n",
       " 0.009107886950948966,\n",
       " 0.009107169025419583,\n",
       " 0.009106479432388842,\n",
       " 0.00910581756889621,\n",
       " 0.009105182774874375,\n",
       " 0.009104574345629746,\n",
       " 0.009103991542572826,\n",
       " 0.009103433602429786,\n",
       " 0.009102899745135286,\n",
       " 0.009102389180577772,\n",
       " 0.009101901114345662,\n",
       " 0.00910143475260583,\n",
       " 0.009100989306223833,\n",
       " 0.009100563994226298,\n",
       " 0.009100158046688591,\n",
       " 0.009099770707124514,\n",
       " 0.009099401234440502,\n",
       " 0.009099048904513676,\n",
       " 0.009098713011440626,\n",
       " 0.009098392868505306,\n",
       " 0.00909808780889808,\n",
       " 0.00909779718622549,\n",
       " 0.009097520374836594,\n",
       " 0.00909725676999215,\n",
       " 0.009097005787901239,\n",
       " 0.009096766865643183,\n",
       " 0.009096539460993033,\n",
       " 0.009096323052166027,\n",
       " 0.009096117137494869,\n",
       " 0.009095921235050312,\n",
       " 0.00909573488221614,\n",
       " 0.009095557635228176,\n",
       " 0.009095389068683466,\n",
       " 0.009095228775028202,\n",
       " 0.009095076364028225,\n",
       " 0.00909493146222981,\n",
       " 0.009094793712413089,\n",
       " 0.00909466277304207,\n",
       " 0.009094538317716014,\n",
       " 0.009094420034622918,\n",
       " 0.009094307625999117]"
      ]
     },
     "execution_count": 180,
     "metadata": {},
     "output_type": "execute_result"
    }
   ],
   "source": [
    "training_loss"
   ]
  },
  {
   "cell_type": "code",
   "execution_count": 194,
   "metadata": {},
   "outputs": [],
   "source": [
    "import matplotlib.pyplot as plt\n",
    "%matplotlib inline"
   ]
  },
  {
   "cell_type": "code",
   "execution_count": 195,
   "metadata": {},
   "outputs": [
    {
     "data": {
      "text/plain": [
       "<matplotlib.legend.Legend at 0x214b2c1e608>"
      ]
     },
     "execution_count": 195,
     "metadata": {},
     "output_type": "execute_result"
    },
    {
     "data": {
      "image/png": "[encoded data removed]",
      "text/plain": [
       "<Figure size 432x288 with 1 Axes>"
      ]
     },
     "metadata": {
      "needs_background": "light"
     },
     "output_type": "display_data"
    }
   ],
   "source": [
    "fig = plt.figure()\n",
    "\n",
    "ax1 = fig.add_axes([0,0,1,1])\n",
    "ax1.set_xlabel('Epochs')\n",
    "ax1.set_ylabel('SSE Loss')\n",
    "ax1.set_title('lr = {}'.format(learning_rate))\n",
    "\n",
    "ax1.plot(np.arange(EPOCHS),training_loss, label='Training Loss')\n",
    "ax1.plot(np.arange(EPOCHS), validation_loss, label='Validation Loss')\n",
    "ax1.legend()"
   ]
  },
  {
   "cell_type": "code",
   "execution_count": 167,
   "metadata": {},
   "outputs": [
    {
     "data": {
      "text/plain": [
       "<matplotlib.legend.Legend at 0x2057bb22dc8>"
      ]
     },
     "execution_count": 167,
     "metadata": {},
     "output_type": "execute_result"
    },
    {
     "data": {
      "image/png": "[encoded data removed]",
      "text/plain": [
       "<Figure size 432x288 with 1 Axes>"
      ]
     },
     "metadata": {
      "needs_background": "light"
     },
     "output_type": "display_data"
    }
   ],
   "source": [
    "fig = plt.figure()\n",
    "\n",
    "ax1 = fig.add_axes([0,0,1,1])\n",
    "ax1.set_xlabel('Epochs')\n",
    "ax1.set_ylabel('SSE Loss')\n",
    "ax1.set_title('lr = {}'.format(learning_rate))\n",
    "\n",
    "ax1.plot(np.arange(EPOCHS),training_loss, label='Training Loss')\n",
    "ax1.plot(np.arange(EPOCHS), validation_loss, label='Validation Loss')\n",
    "ax1.legend()"
   ]
  },
  {
   "cell_type": "code",
   "execution_count": 170,
   "metadata": {},
   "outputs": [
    {
     "data": {
      "text/plain": [
       "array([0, 1, 2, 3, 4])"
      ]
     },
     "execution_count": 170,
     "metadata": {},
     "output_type": "execute_result"
    }
   ],
   "source": [
    "# def model_accuracy\n",
    "np.arange(5)"
   ]
  },
  {
   "cell_type": "code",
   "execution_count": 196,
   "metadata": {},
   "outputs": [],
   "source": [
    "lr_list = [1e-6, 1e-4, 0.001, 0.01, 0.1]\n",
    "loss_list = []\n",
    "\n",
    "for lr in lr_list:\n",
    "    w, training_loss, validation_loss = training(EPOCHS, lr, training_data, training_labels, validation_data, validation_labels)\n",
    "    loss_list.append((lr, training_loss, validation_loss))"
   ]
  },
  {
   "cell_type": "code",
   "execution_count": 197,
   "metadata": {},
   "outputs": [
    {
     "data": {
      "image/png": "[encoded data removed]",
      "text/plain": [
       "<Figure size 1296x288 with 6 Axes>"
      ]
     },
     "metadata": {
      "needs_background": "light"
     },
     "output_type": "display_data"
    }
   ],
   "source": [
    "fig, axes = plt.subplots(nrows=1, ncols=6, figsize=(18, 4))\n",
    "\n",
    "for subax, loss_tuple in zip(axes, loss_list):\n",
    "    subax.plot(np.arange(EPOCHS),loss_tuple[1], label =  'tr')\n",
    "    subax.plot(np.arange(EPOCHS),loss_tuple[2], label = 'val')\n",
    "    subax.legend()\n",
    "    subax.set_title('lr = {}'.format(loss_tuple[0]))\n",
    "        \n",
    "fig.tight_layout() "
   ]
  },
  {
   "cell_type": "code",
   "execution_count": null,
   "metadata": {},
   "outputs": [],
   "source": []
  }
 ],
 "metadata": {
  "kernelspec": {
   "display_name": "Python 3",
   "language": "python",
   "name": "python3"
  },
  "language_info": {
   "codemirror_mode": {
    "name": "ipython",
    "version": 3
   },
   "file_extension": ".py",
   "mimetype": "text/x-python",
   "name": "python",
   "nbconvert_exporter": "python",
   "pygments_lexer": "ipython3",
   "version": "3.7.4"
  }
 },
 "nbformat": 4,
 "nbformat_minor": 4
}
